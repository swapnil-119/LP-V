{
 "cells": [
  {
   "cell_type": "code",
   "execution_count": 1,
   "id": "6a0adf40-a30d-4528-afda-a5da7114f53f",
   "metadata": {},
   "outputs": [
    {
     "name": "stdout",
     "output_type": "stream",
     "text": [
      "WARNING:tensorflow:From C:\\Users\\lenovo\\anaconda3\\Lib\\site-packages\\keras\\src\\losses.py:2976: The name tf.losses.sparse_softmax_cross_entropy is deprecated. Please use tf.compat.v1.losses.sparse_softmax_cross_entropy instead.\n",
      "\n"
     ]
    }
   ],
   "source": [
    "import numpy as np\n",
    "from keras.datasets import imdb\n",
    "from keras.preprocessing.sequence import pad_sequences\n",
    "from keras.models import Sequential\n",
    "from keras.layers import Embedding, Bidirectional, LSTM, Dense"
   ]
  },
  {
   "cell_type": "code",
   "execution_count": 14,
   "id": "48d2bdf7-719e-4549-8b1b-1cea9f4efa5c",
   "metadata": {},
   "outputs": [],
   "source": [
    "vocab_size = 50000 \n",
    "# Load the IMDB dataset\n",
    "(x_train, y_train), (x_test, y_test) = imdb.load_data(num_words=vocab_size)"
   ]
  },
  {
   "cell_type": "code",
   "execution_count": 15,
   "id": "5ffd48b9-dffe-42d0-930e-fdb7be934f1e",
   "metadata": {},
   "outputs": [],
   "source": [
    "# Pad or truncate the sequences to a fixed length of 250 words\n",
    "max_len = 250\n",
    "x_train = pad_sequences(x_train, maxlen=max_len)\n",
    "x_test = pad_sequences(x_test, maxlen=max_len)\n"
   ]
  },
  {
   "cell_type": "code",
   "execution_count": 16,
   "id": "dca42901-de7a-4094-8fce-4e72ebe82fa3",
   "metadata": {},
   "outputs": [],
   "source": [
    "# Define the deep neural network architecture\n",
    "model = Sequential()\n",
    "model.add(Embedding(input_dim=vocab_size, output_dim=128, input_length=max_len))\n",
    "model.add(Bidirectional(LSTM(64, return_sequences=True)))\n",
    "model.add(Bidirectional(LSTM(32))) \n",
    "model.add(Dense(1, activation='sigmoid'))"
   ]
  },
  {
   "cell_type": "code",
   "execution_count": 17,
   "id": "9d8b1751-9e48-4963-8e35-3c903a54f9fa",
   "metadata": {},
   "outputs": [],
   "source": [
    "# Compile the model\n",
    "model.compile(loss='binary_crossentropy', optimizer='adam', metrics=['accuracy'])"
   ]
  },
  {
   "cell_type": "code",
   "execution_count": 18,
   "id": "7a5b1bf2-6acb-499d-9f83-b2d388ab5ca3",
   "metadata": {},
   "outputs": [
    {
     "name": "stdout",
     "output_type": "stream",
     "text": [
      "Epoch 1/10\n",
      "157/157 [==============================] - 231s 1s/step - loss: 0.4589 - accuracy: 0.7752 - val_loss: 0.3305 - val_accuracy: 0.8702\n",
      "Epoch 2/10\n",
      "157/157 [==============================] - 227s 1s/step - loss: 0.2370 - accuracy: 0.9110 - val_loss: 0.4173 - val_accuracy: 0.8506\n",
      "Epoch 3/10\n",
      "157/157 [==============================] - 225s 1s/step - loss: 0.1426 - accuracy: 0.9516 - val_loss: 0.3860 - val_accuracy: 0.8430\n",
      "Epoch 4/10\n",
      "157/157 [==============================] - 225s 1s/step - loss: 0.0810 - accuracy: 0.9768 - val_loss: 0.4601 - val_accuracy: 0.8510\n",
      "Epoch 5/10\n",
      "157/157 [==============================] - 229s 1s/step - loss: 0.0635 - accuracy: 0.9816 - val_loss: 0.5370 - val_accuracy: 0.8590\n",
      "Epoch 6/10\n",
      "157/157 [==============================] - 230s 1s/step - loss: 0.0640 - accuracy: 0.9804 - val_loss: 0.5351 - val_accuracy: 0.8556\n",
      "Epoch 7/10\n",
      "157/157 [==============================] - 227s 1s/step - loss: 0.0387 - accuracy: 0.9896 - val_loss: 0.5530 - val_accuracy: 0.8574\n",
      "Epoch 8/10\n",
      "157/157 [==============================] - 235s 1s/step - loss: 0.0360 - accuracy: 0.9905 - val_loss: 0.6285 - val_accuracy: 0.8544\n",
      "Epoch 9/10\n",
      "157/157 [==============================] - 228s 1s/step - loss: 0.0280 - accuracy: 0.9923 - val_loss: 0.6265 - val_accuracy: 0.8508\n",
      "Epoch 10/10\n",
      "157/157 [==============================] - 242s 2s/step - loss: 0.0219 - accuracy: 0.9937 - val_loss: 0.6776 - val_accuracy: 0.8468\n"
     ]
    }
   ],
   "source": [
    "# Train the model\n",
    "history = model.fit(x_train, y_train, epochs=10, batch_size=128, validation_split=0.2)"
   ]
  },
  {
   "cell_type": "code",
   "execution_count": 19,
   "id": "19421fe1-0d56-4d60-9505-e1b4183f2cda",
   "metadata": {},
   "outputs": [
    {
     "name": "stdout",
     "output_type": "stream",
     "text": [
      "196/196 [==============================] - 69s 350ms/step - loss: 0.6869 - accuracy: 0.8438\n",
      "Test accuracy: 0.8438, Test loss: 0.6869\n"
     ]
    }
   ],
   "source": [
    "# Evaluate the model on the test set\n",
    "loss, acc = model.evaluate(x_test, y_test, batch_size=128)\n",
    "print(f'Test accuracy: {acc:.4f}, Test loss: {loss:.4f}')"
   ]
  },
  {
   "cell_type": "code",
   "execution_count": null,
   "id": "42dbc5cb-bac6-43c3-aebd-73478ca6d91c",
   "metadata": {},
   "outputs": [],
   "source": []
  }
 ],
 "metadata": {
  "kernelspec": {
   "display_name": "Python 3 (ipykernel)",
   "language": "python",
   "name": "python3"
  },
  "language_info": {
   "codemirror_mode": {
    "name": "ipython",
    "version": 3
   },
   "file_extension": ".py",
   "mimetype": "text/x-python",
   "name": "python",
   "nbconvert_exporter": "python",
   "pygments_lexer": "ipython3",
   "version": "3.11.5"
  }
 },
 "nbformat": 4,
 "nbformat_minor": 5
}
