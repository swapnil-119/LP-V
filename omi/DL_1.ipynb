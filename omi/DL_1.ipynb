{
 "cells": [
  {
   "cell_type": "code",
   "execution_count": 1,
   "id": "0f496606-d2a0-41e4-a803-445589fdfae1",
   "metadata": {},
   "outputs": [],
   "source": [
    "import pandas as pd"
   ]
  },
  {
   "cell_type": "code",
   "execution_count": 2,
   "id": "007cc9d9-f437-4cb4-a260-be26bfd07dca",
   "metadata": {},
   "outputs": [],
   "source": [
    "# Load the dataset from a CSV file\n",
    "df = pd.read_csv('boston_housing.csv')"
   ]
  },
  {
   "cell_type": "code",
   "execution_count": 3,
   "id": "0ae7a8e3-73a8-4c08-b1ba-671a3a0c090d",
   "metadata": {},
   "outputs": [
    {
     "name": "stdout",
     "output_type": "stream",
     "text": [
      "      crim    zn  indus  chas    nox     rm   age     dis  rad  tax  ptratio  \\\n",
      "0  0.00632  18.0   2.31     0  0.538  6.575  65.2  4.0900    1  296     15.3   \n",
      "1  0.02731   0.0   7.07     0  0.469  6.421  78.9  4.9671    2  242     17.8   \n",
      "2  0.02729   0.0   7.07     0  0.469  7.185  61.1  4.9671    2  242     17.8   \n",
      "3  0.03237   0.0   2.18     0  0.458  6.998  45.8  6.0622    3  222     18.7   \n",
      "4  0.06905   0.0   2.18     0  0.458  7.147  54.2  6.0622    3  222     18.7   \n",
      "\n",
      "        b  lstat  MEDV  \n",
      "0  396.90   4.98  24.0  \n",
      "1  396.90   9.14  21.6  \n",
      "2  392.83   4.03  34.7  \n",
      "3  394.63   2.94  33.4  \n",
      "4  396.90   5.33  36.2  \n"
     ]
    }
   ],
   "source": [
    "# Display the first few rows of the dataset\n",
    "print(df.head())"
   ]
  },
  {
   "cell_type": "code",
   "execution_count": 4,
   "id": "b5af3c31-e067-4090-9e87-564dc4836623",
   "metadata": {},
   "outputs": [],
   "source": [
    "from sklearn.preprocessing import StandardScaler\n",
    "# Split the data into input and output variables\n",
    "X = df.drop('MEDV', axis=1)\n",
    "y = df['MEDV']"
   ]
  },
  {
   "cell_type": "code",
   "execution_count": 5,
   "id": "c85c9dce-a2e4-443c-b1d5-9abbbe45efb0",
   "metadata": {},
   "outputs": [
    {
     "name": "stdout",
     "output_type": "stream",
     "text": [
      "      crim    zn  indus  chas    nox     rm   age     dis  rad  tax  ptratio  \\\n",
      "0  0.00632  18.0   2.31     0  0.538  6.575  65.2  4.0900    1  296     15.3   \n",
      "1  0.02731   0.0   7.07     0  0.469  6.421  78.9  4.9671    2  242     17.8   \n",
      "2  0.02729   0.0   7.07     0  0.469  7.185  61.1  4.9671    2  242     17.8   \n",
      "3  0.03237   0.0   2.18     0  0.458  6.998  45.8  6.0622    3  222     18.7   \n",
      "4  0.06905   0.0   2.18     0  0.458  7.147  54.2  6.0622    3  222     18.7   \n",
      "\n",
      "        b  lstat  \n",
      "0  396.90   4.98  \n",
      "1  396.90   9.14  \n",
      "2  392.83   4.03  \n",
      "3  394.63   2.94  \n",
      "4  396.90   5.33  \n"
     ]
    }
   ],
   "source": [
    "# Scale the input features\n",
    "scaler = StandardScaler()\n",
    "scaler.fit_transform(X)\n",
    "print(X[:5])"
   ]
  },
  {
   "cell_type": "code",
   "execution_count": 6,
   "id": "d4892ad9-bee7-4bfc-b252-21023c5b89b3",
   "metadata": {},
   "outputs": [],
   "source": [
    "from sklearn.model_selection import train_test_split\n",
    "#Split the data into training and testing sets\n",
    "X_train, X_test, y_train, y_test = train_test_split(X, y, test_size=0.3, random_state=42)"
   ]
  },
  {
   "cell_type": "code",
   "execution_count": 7,
   "id": "96304510-480d-4bbf-a136-540e64478513",
   "metadata": {},
   "outputs": [
    {
     "name": "stdout",
     "output_type": "stream",
     "text": [
      "Training set shape: (354, 13) (354,)\n",
      "Testing set shape: (152, 13) (152,)\n"
     ]
    }
   ],
   "source": [
    "#Print the shapes of the training and testing sets\n",
    "print('Training set shape:', X_train.shape, y_train.shape)\n",
    "print('Testing set shape:', X_test.shape, y_test.shape)"
   ]
  },
  {
   "cell_type": "code",
   "execution_count": 8,
   "id": "bf8537c1-71b6-4c9a-be10-ce475e25d6e3",
   "metadata": {},
   "outputs": [
    {
     "name": "stdout",
     "output_type": "stream",
     "text": [
      "WARNING:tensorflow:From C:\\Users\\lenovo\\anaconda3\\Lib\\site-packages\\keras\\src\\losses.py:2976: The name tf.losses.sparse_softmax_cross_entropy is deprecated. Please use tf.compat.v1.losses.sparse_softmax_cross_entropy instead.\n",
      "\n",
      "WARNING:tensorflow:From C:\\Users\\lenovo\\anaconda3\\Lib\\site-packages\\keras\\src\\backend.py:873: The name tf.get_default_graph is deprecated. Please use tf.compat.v1.get_default_graph instead.\n",
      "\n"
     ]
    }
   ],
   "source": [
    "from keras.models import Sequential\n",
    "from keras.layers import Dense, Dropout\n",
    "# Define the model architecture\n",
    "model =Sequential()\n",
    "model.add(Dense(64,input_dim=13,activation='relu'))\n",
    "model.add(Dropout(0.2))\n",
    "model.add(Dense(32,activation='relu'))\n",
    "model.add(Dense(1))"
   ]
  },
  {
   "cell_type": "code",
   "execution_count": 9,
   "id": "3b189e19-f60f-43ea-a6c7-a1a9dd5c9391",
   "metadata": {},
   "outputs": [
    {
     "name": "stdout",
     "output_type": "stream",
     "text": [
      "Model: \"sequential\"\n",
      "_________________________________________________________________\n",
      " Layer (type)                Output Shape              Param #   \n",
      "=================================================================\n",
      " dense (Dense)               (None, 64)                896       \n",
      "                                                                 \n",
      " dropout (Dropout)           (None, 64)                0         \n",
      "                                                                 \n",
      " dense_1 (Dense)             (None, 32)                2080      \n",
      "                                                                 \n",
      " dense_2 (Dense)             (None, 1)                 33        \n",
      "                                                                 \n",
      "=================================================================\n",
      "Total params: 3009 (11.75 KB)\n",
      "Trainable params: 3009 (11.75 KB)\n",
      "Non-trainable params: 0 (0.00 Byte)\n",
      "_________________________________________________________________\n",
      "None\n"
     ]
    }
   ],
   "source": [
    "# Display the model summary\n",
    "print(model.summary())"
   ]
  },
  {
   "cell_type": "code",
   "execution_count": 10,
   "id": "4a6ab8cf-61d4-4ef3-be3e-607401729c5e",
   "metadata": {},
   "outputs": [
    {
     "name": "stdout",
     "output_type": "stream",
     "text": [
      "WARNING:tensorflow:From C:\\Users\\lenovo\\anaconda3\\Lib\\site-packages\\keras\\src\\optimizers\\__init__.py:309: The name tf.train.Optimizer is deprecated. Please use tf.compat.v1.train.Optimizer instead.\n",
      "\n"
     ]
    }
   ],
   "source": [
    "# Compile the model\n",
    "model.compile(loss='mean_squared_error', optimizer='adam', metrics=['mean_absolute_error'])"
   ]
  },
  {
   "cell_type": "code",
   "execution_count": 11,
   "id": "0d415031-2f81-42b8-b0dc-4a6fb70a6e22",
   "metadata": {},
   "outputs": [
    {
     "name": "stdout",
     "output_type": "stream",
     "text": [
      "Epoch 1/100\n",
      "WARNING:tensorflow:From C:\\Users\\lenovo\\anaconda3\\Lib\\site-packages\\keras\\src\\utils\\tf_utils.py:492: The name tf.ragged.RaggedTensorValue is deprecated. Please use tf.compat.v1.ragged.RaggedTensorValue instead.\n",
      "\n",
      "WARNING:tensorflow:From C:\\Users\\lenovo\\anaconda3\\Lib\\site-packages\\keras\\src\\engine\\base_layer_utils.py:384: The name tf.executing_eagerly_outside_functions is deprecated. Please use tf.compat.v1.executing_eagerly_outside_functions instead.\n",
      "\n",
      "9/9 [==============================] - 1s 35ms/step - loss: 1801.0957 - mean_absolute_error: 32.9534 - val_loss: 1233.4784 - val_mean_absolute_error: 32.1221\n",
      "Epoch 2/100\n",
      "9/9 [==============================] - 0s 8ms/step - loss: 966.7351 - mean_absolute_error: 24.9196 - val_loss: 249.6681 - val_mean_absolute_error: 13.1348\n",
      "Epoch 3/100\n",
      "9/9 [==============================] - 0s 7ms/step - loss: 854.3986 - mean_absolute_error: 22.5118 - val_loss: 346.8541 - val_mean_absolute_error: 16.3445\n",
      "Epoch 4/100\n",
      "9/9 [==============================] - 0s 7ms/step - loss: 619.0740 - mean_absolute_error: 19.3010 - val_loss: 258.2513 - val_mean_absolute_error: 13.6165\n",
      "Epoch 5/100\n",
      "9/9 [==============================] - 0s 7ms/step - loss: 404.3034 - mean_absolute_error: 15.9994 - val_loss: 250.8631 - val_mean_absolute_error: 13.3745\n",
      "Epoch 6/100\n",
      "9/9 [==============================] - 0s 7ms/step - loss: 356.2799 - mean_absolute_error: 14.3415 - val_loss: 160.9191 - val_mean_absolute_error: 9.7483\n",
      "Epoch 7/100\n",
      "9/9 [==============================] - 0s 7ms/step - loss: 409.2503 - mean_absolute_error: 15.8468 - val_loss: 150.3659 - val_mean_absolute_error: 8.8898\n",
      "Epoch 8/100\n",
      "9/9 [==============================] - 0s 7ms/step - loss: 319.7559 - mean_absolute_error: 13.9474 - val_loss: 184.9546 - val_mean_absolute_error: 10.5538\n",
      "Epoch 9/100\n",
      "9/9 [==============================] - 0s 7ms/step - loss: 275.6654 - mean_absolute_error: 12.8379 - val_loss: 107.0958 - val_mean_absolute_error: 7.1898\n",
      "Epoch 10/100\n",
      "9/9 [==============================] - 0s 7ms/step - loss: 249.2051 - mean_absolute_error: 12.4460 - val_loss: 130.9821 - val_mean_absolute_error: 8.6919\n",
      "Epoch 11/100\n",
      "9/9 [==============================] - 0s 7ms/step - loss: 195.3639 - mean_absolute_error: 10.3793 - val_loss: 85.2115 - val_mean_absolute_error: 6.1575\n",
      "Epoch 12/100\n",
      "9/9 [==============================] - 0s 9ms/step - loss: 225.8410 - mean_absolute_error: 11.5678 - val_loss: 163.0076 - val_mean_absolute_error: 9.9942\n",
      "Epoch 13/100\n",
      "9/9 [==============================] - 0s 8ms/step - loss: 201.5455 - mean_absolute_error: 10.9078 - val_loss: 94.8151 - val_mean_absolute_error: 6.5992\n",
      "Epoch 14/100\n",
      "9/9 [==============================] - 0s 7ms/step - loss: 173.4449 - mean_absolute_error: 10.2468 - val_loss: 97.6291 - val_mean_absolute_error: 6.8393\n",
      "Epoch 15/100\n",
      "9/9 [==============================] - 0s 12ms/step - loss: 171.7856 - mean_absolute_error: 9.9035 - val_loss: 104.5451 - val_mean_absolute_error: 7.2376\n",
      "Epoch 16/100\n",
      "9/9 [==============================] - 0s 9ms/step - loss: 164.9917 - mean_absolute_error: 9.7677 - val_loss: 114.5832 - val_mean_absolute_error: 7.7026\n"
     ]
    }
   ],
   "source": [
    "from keras.callbacks import EarlyStopping\n",
    "# Train the model\n",
    "early_stopping = EarlyStopping(monitor='val_loss', patience=5)\n",
    "history = model.fit(X_train, y_train, validation_split=0.2, epochs=100, batch_size=32,callbacks=[early_stopping])"
   ]
  },
  {
   "cell_type": "code",
   "execution_count": 12,
   "id": "33cf829d-651f-4f20-954a-edf32140334f",
   "metadata": {},
   "outputs": [
    {
     "data": {
      "image/png": "[encoded data removed]",
      "text/plain": [
       "<Figure size 640x480 with 1 Axes>"
      ]
     },
     "metadata": {},
     "output_type": "display_data"
    }
   ],
   "source": [
    "# Plot the training and validation loss over epochs import\n",
    "import matplotlib.pyplot as plt\n",
    "plt.plot(history.history['loss'])\n",
    "plt.plot(history.history['val_loss'])\n",
    "plt.title('Model Loss')\n",
    "plt.xlabel('Epochs')\n",
    "plt.ylabel('Loss')\n",
    "plt.legend(['Training Validation'])\n",
    "plt.show()"
   ]
  },
  {
   "cell_type": "code",
   "execution_count": 13,
   "id": "e7a67f28-8257-41fd-9f37-6e1350208c3c",
   "metadata": {},
   "outputs": [
    {
     "name": "stdout",
     "output_type": "stream",
     "text": [
      "5/5 [==============================] - 0s 6ms/step - loss: 80.8861 - mean_absolute_error: 6.1935\n"
     ]
    }
   ],
   "source": [
    "# Evaluate the model on the testing set loss,\n",
    "mae = model.evaluate (X_test, y_test)"
   ]
  },
  {
   "cell_type": "code",
   "execution_count": 14,
   "id": "3935e90c-6be2-433b-b2d1-4e1375f51971",
   "metadata": {},
   "outputs": [
    {
     "name": "stdout",
     "output_type": "stream",
     "text": [
      "Mean Absolute Error: [80.8860855102539, 6.193505764007568]\n"
     ]
    }
   ],
   "source": [
    "# Print the mean absolute error\n",
    "print('Mean Absolute Error:', mae)"
   ]
  },
  {
   "cell_type": "code",
   "execution_count": null,
   "id": "a23c8eb4-87fe-42af-b991-e34386da25fb",
   "metadata": {},
   "outputs": [],
   "source": []
  }
 ],
 "metadata": {
  "kernelspec": {
   "display_name": "Python 3 (ipykernel)",
   "language": "python",
   "name": "python3"
  },
  "language_info": {
   "codemirror_mode": {
    "name": "ipython",
    "version": 3
   },
   "file_extension": ".py",
   "mimetype": "text/x-python",
   "name": "python",
   "nbconvert_exporter": "python",
   "pygments_lexer": "ipython3",
   "version": "3.11.5"
  }
 },
 "nbformat": 4,
 "nbformat_minor": 5
}
